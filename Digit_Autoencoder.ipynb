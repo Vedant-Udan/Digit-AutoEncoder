{
 "cells": [
  {
   "cell_type": "code",
   "execution_count": 1,
   "metadata": {},
   "outputs": [],
   "source": [
    "import torch \n",
    "import torch.nn as nn\n",
    "import torch.optim as optim\n",
    "from torchvision import datasets, transforms\n",
    "import matplotlib.pyplot as plt \n"
   ]
  },
  {
   "cell_type": "code",
   "execution_count": 2,
   "metadata": {},
   "outputs": [],
   "source": [
    "transform = transforms.ToTensor()\n",
    "\n",
    "mnist_data = datasets.MNIST(root= './data', train = True, download= True, transform=transform)\n",
    "\n",
    "data_load = torch.utils.data.DataLoader(mnist_data, batch_size = 64, shuffle = True)"
   ]
  },
  {
   "cell_type": "code",
   "execution_count": 3,
   "metadata": {},
   "outputs": [],
   "source": [
    "dataiters = iter(data_load)\n",
    "images, targets = next(dataiters)\n",
    "# print(images.shape, targets)"
   ]
  },
  {
   "cell_type": "code",
   "execution_count": 4,
   "metadata": {},
   "outputs": [
    {
     "name": "stdout",
     "output_type": "stream",
     "text": [
      "torch.Size([64, 1, 28, 28]) torch.Size([64])\n"
     ]
    }
   ],
   "source": [
    "print(images.shape, targets.shape)"
   ]
  },
  {
   "cell_type": "code",
   "execution_count": 5,
   "metadata": {},
   "outputs": [],
   "source": [
    "class autoencoder_linear(nn.Module) :\n",
    "    def __init__(self):\n",
    "        super(autoencoder_linear, self).__init__()\n",
    "        self.encoder = nn.Sequential(\n",
    "            nn.Linear(28*28, 512),\n",
    "            nn.ReLU(),\n",
    "            nn.Linear(512, 256),\n",
    "            nn.ReLU(),\n",
    "            nn.Linear(256, 64),\n",
    "            nn.ReLU(),\n",
    "            nn.Linear(64, 3)\n",
    "        )\n",
    "        self.decoder = nn.Sequential(\n",
    "            nn.Linear(3, 64),\n",
    "            nn.ReLU(),\n",
    "            nn.Linear(64, 256),\n",
    "            nn.ReLU(),\n",
    "            nn.Linear(256, 512),\n",
    "            nn.ReLU(),\n",
    "            nn.Linear(512, 28*28),\n",
    "            nn.Sigmoid()\n",
    "        )\n",
    "\n",
    "    def forward(self, x):\n",
    "        encoded = self.encoder(x)\n",
    "        decoded = self.decoder(encoded)\n",
    "        return decoded\n",
    "    "
   ]
  },
  {
   "cell_type": "code",
   "execution_count": 6,
   "metadata": {},
   "outputs": [],
   "source": [
    "model = autoencoder_linear().to(\"cuda\")\n",
    "loss_fn = nn.MSELoss().to(\"cuda\")\n",
    "optimizer = optim.Adam(model.parameters(), lr=0.0001)"
   ]
  },
  {
   "cell_type": "code",
   "execution_count": 7,
   "metadata": {},
   "outputs": [
    {
     "name": "stdout",
     "output_type": "stream",
     "text": [
      "Epoch : 1, Loss :  0.0523808 \n",
      "Epoch : 3, Loss :  0.0426741 \n",
      "Epoch : 5, Loss :  0.0384309 \n",
      "Epoch : 7, Loss :  0.0401643 \n",
      "Epoch : 9, Loss :  0.0310833 \n",
      "Epoch : 11, Loss :  0.0335657 \n",
      "Epoch : 13, Loss :  0.0339391 \n",
      "Epoch : 15, Loss :  0.0322675 \n",
      "Epoch : 17, Loss :  0.0310813 \n",
      "Epoch : 19, Loss :  0.0329324 \n",
      "Epoch : 21, Loss :  0.0312794 \n",
      "Epoch : 23, Loss :  0.0288405 \n",
      "Epoch : 25, Loss :  0.0308535 \n",
      "Epoch : 27, Loss :  0.0287246 \n",
      "Epoch : 29, Loss :  0.0319178 \n",
      "Epoch : 31, Loss :  0.0259366 \n",
      "Epoch : 33, Loss :  0.0303085 \n",
      "Epoch : 35, Loss :  0.0347033 \n",
      "Epoch : 37, Loss :  0.0309384 \n",
      "Epoch : 39, Loss :  0.0304707 \n",
      "Epoch : 41, Loss :  0.0303841 \n",
      "Epoch : 43, Loss :  0.0277942 \n",
      "Epoch : 45, Loss :  0.0312481 \n",
      "Epoch : 47, Loss :  0.0269034 \n",
      "Epoch : 49, Loss :  0.0320003 \n",
      "Epoch : 51, Loss :  0.0269770 \n",
      "Epoch : 53, Loss :  0.0267971 \n",
      "Epoch : 55, Loss :  0.0261558 \n",
      "Epoch : 57, Loss :  0.0259916 \n",
      "Epoch : 59, Loss :  0.0265456 \n",
      "Epoch : 61, Loss :  0.0259028 \n",
      "Epoch : 63, Loss :  0.0265728 \n",
      "Epoch : 65, Loss :  0.0283840 \n",
      "Epoch : 67, Loss :  0.0283010 \n",
      "Epoch : 69, Loss :  0.0318125 \n",
      "Epoch : 71, Loss :  0.0273669 \n",
      "Epoch : 73, Loss :  0.0260611 \n",
      "Epoch : 75, Loss :  0.0283270 \n",
      "Epoch : 77, Loss :  0.0248888 \n",
      "Epoch : 79, Loss :  0.0269656 \n",
      "Epoch : 81, Loss :  0.0300278 \n",
      "Epoch : 83, Loss :  0.0276721 \n",
      "Epoch : 85, Loss :  0.0299651 \n",
      "Epoch : 87, Loss :  0.0295246 \n",
      "Epoch : 89, Loss :  0.0256786 \n",
      "Epoch : 91, Loss :  0.0252787 \n",
      "Epoch : 93, Loss :  0.0279289 \n",
      "Epoch : 95, Loss :  0.0235532 \n",
      "Epoch : 97, Loss :  0.0224081 \n",
      "Epoch : 99, Loss :  0.0259596 \n",
      "Epoch : 101, Loss :  0.0288302 \n"
     ]
    }
   ],
   "source": [
    "num_epochs = 101\n",
    "for epoch in range(num_epochs):\n",
    "    for img, _ in data_load:\n",
    "        img = img.reshape(-1, 28*28).to(\"cuda\")\n",
    "        pred = model(img)\n",
    "        loss = loss_fn(pred, img)\n",
    "        loss.backward()\n",
    "        optimizer.step()\n",
    "        optimizer.zero_grad()\n",
    "    if epoch%2  == 0 : \n",
    "        print(f\"Epoch : {epoch + 1}, Loss : {loss.item() : .7f} \")\n",
    "    \n"
   ]
  },
  {
   "cell_type": "code",
   "execution_count": 12,
   "metadata": {},
   "outputs": [],
   "source": [
    "torch.save(model.state_dict(), \"Autoencoder.pt\")"
   ]
  },
  {
   "cell_type": "code",
   "execution_count": 22,
   "metadata": {},
   "outputs": [
    {
     "data": {
      "text/plain": [
       "autoencoder_linear(\n",
       "  (encoder): Sequential(\n",
       "    (0): Linear(in_features=784, out_features=512, bias=True)\n",
       "    (1): ReLU()\n",
       "    (2): Linear(in_features=512, out_features=256, bias=True)\n",
       "    (3): ReLU()\n",
       "    (4): Linear(in_features=256, out_features=64, bias=True)\n",
       "    (5): ReLU()\n",
       "    (6): Linear(in_features=64, out_features=3, bias=True)\n",
       "  )\n",
       "  (decoder): Sequential(\n",
       "    (0): Linear(in_features=3, out_features=64, bias=True)\n",
       "    (1): ReLU()\n",
       "    (2): Linear(in_features=64, out_features=256, bias=True)\n",
       "    (3): ReLU()\n",
       "    (4): Linear(in_features=256, out_features=512, bias=True)\n",
       "    (5): ReLU()\n",
       "    (6): Linear(in_features=512, out_features=784, bias=True)\n",
       "    (7): Sigmoid()\n",
       "  )\n",
       ")"
      ]
     },
     "execution_count": 22,
     "metadata": {},
     "output_type": "execute_result"
    }
   ],
   "source": [
    "model.load_state_dict(torch.load(\"Autoencoder.pt\"))\n",
    "model.eval()"
   ]
  },
  {
   "cell_type": "code",
   "execution_count": 24,
   "metadata": {},
   "outputs": [],
   "source": [
    "target = model(images[0].view(-1).to('cuda'))"
   ]
  },
  {
   "cell_type": "code",
   "execution_count": 27,
   "metadata": {},
   "outputs": [],
   "source": [
    "target = target.view(28,28).to('cpu').detach().numpy()"
   ]
  },
  {
   "cell_type": "code",
   "execution_count": 33,
   "metadata": {},
   "outputs": [
    {
     "data": {
      "image/png": "[encoded data removed]",
      "text/plain": [
       "<Figure size 640x480 with 1 Axes>"
      ]
     },
     "metadata": {},
     "output_type": "display_data"
    }
   ],
   "source": [
    "plt.imshow(images[0][0], cmap='gray')\n",
    "plt.title(\"Original Image\")\n",
    "plt.axis(\"off\")\n",
    "plt.show()"
   ]
  },
  {
   "cell_type": "code",
   "execution_count": 32,
   "metadata": {},
   "outputs": [
    {
     "data": {
      "image/png": "[encoded data removed]",
      "text/plain": [
       "<Figure size 640x480 with 1 Axes>"
      ]
     },
     "metadata": {},
     "output_type": "display_data"
    }
   ],
   "source": [
    "plt.imshow(target, cmap='gray')\n",
    "plt.title(\"Predicted Image\")\n",
    "plt.axis(\"off\")\n",
    "plt.show()"
   ]
  },
  {
   "cell_type": "code",
   "execution_count": null,
   "metadata": {},
   "outputs": [],
   "source": []
  }
 ],
 "metadata": {
  "kernelspec": {
   "display_name": "Python 3",
   "language": "python",
   "name": "python3"
  },
  "language_info": {
   "codemirror_mode": {
    "name": "ipython",
    "version": 3
   },
   "file_extension": ".py",
   "mimetype": "text/x-python",
   "name": "python",
   "nbconvert_exporter": "python",
   "pygments_lexer": "ipython3",
   "version": "3.10.12"
  }
 },
 "nbformat": 4,
 "nbformat_minor": 2
}
